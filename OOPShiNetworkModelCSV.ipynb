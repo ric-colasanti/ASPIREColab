{
  "nbformat": 4,
  "nbformat_minor": 0,
  "metadata": {
    "colab": {
      "name": "OOPShiNetworkModelCSV.ipynb",
      "provenance": [],
      "collapsed_sections": [],
      "authorship_tag": "ABX9TyPTw9h8w1s4Ox5g5d5KcZSe",
      "include_colab_link": true
    },
    "kernelspec": {
      "name": "python3",
      "display_name": "Python 3"
    },
    "language_info": {
      "name": "python"
    }
  },
  "cells": [
    {
      "cell_type": "markdown",
      "metadata": {
        "id": "view-in-github",
        "colab_type": "text"
      },
      "source": [
        "<a href=\"https://colab.research.google.com/github/ric-colasanti/ASPIREColab/blob/main/OOPShiNetworkModelCSV.ipynb\" target=\"_parent\"><img src=\"https://colab.research.google.com/assets/colab-badge.svg\" alt=\"Open In Colab\"/></a>"
      ]
    },
    {
      "cell_type": "code",
      "metadata": {
        "id": "mUsL68qSOZd0"
      },
      "source": [
        "import json\n",
        "from google.colab import drive\n",
        "import matplotlib.pyplot as plt\n",
        "import numpy as np\n",
        "import pandas as pd\n",
        "import random as rnd\n",
        "import networkx as nx\n",
        "import matplotlib.pyplot as plt\n",
        "import math\n",
        "import requests\n",
        "import csv"
      ],
      "execution_count": 105,
      "outputs": []
    },
    {
      "cell_type": "code",
      "metadata": {
        "id": "eVrTQcy8RKAr",
        "colab": {
          "base_uri": "https://localhost:8080/"
        },
        "outputId": "2cb69c51-05b5-4ddd-a20d-bbcc77380747"
      },
      "source": [
        "url = \"https://ric-colasanti.github.io/ASPIREColab/Data/2009data.csv\"\n",
        "data = requests.get(url)\n",
        "lines = data.content.decode('utf-8')\n",
        "cr = csv.reader(lines.splitlines(), delimiter=',')\n",
        "shi_2009 = list(cr)\n",
        "print(shi_2009[0])\n",
        "\n",
        "print(len(shi_2009))"
      ],
      "execution_count": 106,
      "outputs": [
        {
          "output_type": "stream",
          "name": "stdout",
          "text": [
            "['2', '58', '1.593', '64.2', '8.71952172', '5.50015284', '57.2']\n",
            "2197\n"
          ]
        }
      ]
    },
    {
      "cell_type": "code",
      "source": [
        "hold1 =0\n",
        "hold2 = 0\n",
        "hold3 =0"
      ],
      "metadata": {
        "id": "ljLkqA8XruQy"
      },
      "execution_count": 107,
      "outputs": []
    },
    {
      "cell_type": "code",
      "source": [
        "class Person:\n",
        "    T_PA = 0.12\n",
        "    T_EI = 0.07\n",
        "    def __init__(self,key,data):\n",
        "        self.id = key\n",
        "        self.gender = int(data[0])\n",
        "        self.age = int(data[1])\n",
        "        self.height = float(data[2])\n",
        "        self.BW = float(data[3])\n",
        "        self.start_BW = self.BW\n",
        "        self.EI = float(data[4])\n",
        "        self.BEE = float(data[5])\n",
        "        self.BW_2011 = float(data[6])\n",
        "        self.BMI = self.BW/(self.height * self.height)\n",
        "        self.BEE_calc = self.calc_BEE()\n",
        "        self.linked = []\n",
        "        self.is_part = False\n",
        "        self.can_choose = False\n",
        "        self.xpos =rnd.random()\n",
        "        self.ypos =rnd.random()\n",
        "        self.EE = self.EI #0.0 # Energy expenditure\n",
        "        self.PA = 0.9 * self.EI - self.BEE# 0.0 # Physical activity\n",
        "        self.Env = (rnd.random()*(1.08-0.82))+0.82\n",
        "        if self.BMI<18.5:\n",
        "            self.BMI_catagory = 1\n",
        "        elif self.BMI>=18.5 and self.BMI<24:\n",
        "            self.BMI_catagory = 2\n",
        "        elif self.BMI>=24 and self.BMI<28:\n",
        "            self.BMI_catagory = 3\n",
        "        else:\n",
        "            self.BMI_catagory = 4\n",
        "        \n",
        "\n",
        "    def calc_BEE(self):\n",
        "        if self.gender ==1:\n",
        "            self.BEE = ((66.5 + 13.6 * self.BW + 500 * self.height - 6.8 * self.age) * 4186 / 1000000) \n",
        "        else:\n",
        "            self.BEE = ((655.1 + 9.5 * self.BW + 180 * self.height - 4.1 * self.age)* 4186 / 1000000) \n",
        "\n",
        "    def diffuse_behavior(self):# the calculation of influence and EI/PA change\n",
        "        global hold1, hold2, hold3\n",
        "        inf_PA = 0\n",
        "        inf_EI = 0\n",
        "        temp = 0\n",
        "        s  = 0\n",
        "        inf_PA_Env = 0\n",
        "        inf_EI_Env = 0\n",
        "\n",
        "        for agent in self.linked:\n",
        "            hold2 +=1\n",
        "            temp =  agent.PA - self.PA\n",
        "            s += temp\n",
        "  \n",
        "        inf_PA  = (1 / len(self.linked))  * s\n",
        "\n",
        "        temp = 0\n",
        "        s  = 0\n",
        "        for agent in self.linked:\n",
        "            temp  = agent.EI - self.EI\n",
        "            s += temp\n",
        "\n",
        "        inf_EI  = (1 / len(self.linked))  * s\n",
        "\n",
        "        if inf_PA >= 0:\n",
        "            inf_PA_Env = inf_PA * self.Env\n",
        "        else:\n",
        "            inf_PA_Env = inf_PA / self.Env\n",
        "\n",
        "        if inf_EI < 0:\n",
        "            inf_EI_Env = inf_EI * self.Env\n",
        "        else:\n",
        "            inf_EI_Env = inf_EI / self.Env\n",
        "\n",
        "        if (inf_PA_Env > 0) and (abs(inf_PA_Env) > Person.T_PA * self.PA):\n",
        "            self.PA *= (1 + 0.05)\n",
        "        if (inf_PA_Env < 0) and (abs(inf_PA_Env) > Person.T_PA * self.PA):\n",
        "            self.PA *= (1 - 0.05)\n",
        "\n",
        "        if (inf_EI_Env > 0) and (abs(inf_EI_Env) > Person.T_EI * self.EI):\n",
        "            self.EI *= (1 + 0.05)\n",
        "        if (inf_EI_Env < 0) and (abs(inf_EI_Env) > Person.T_EI * self.EI):\n",
        "            self.EI *= (1 - 0.05) \n",
        "        hold1 += inf_EI\n",
        "        hold3 += inf_PA\n",
        "    \n",
        "    def update(self):#the calculation of BW change\n",
        "        EBI = 0\n",
        "        self.EE = self.BEE + 0.1 * self.EI + self.PA\n",
        "        EIB = 7 * (self.EI - self.EE) / 5\n",
        "        self.BW += (EIB / (7 * math.log(self.BW + 1) + 5))\n",
        "        self.calc_BEE()\n",
        "    def distance(self,agent):\n",
        "        x_sqr = abs(self.xpos-agent.xpos)\n",
        "        x_sqr*=x_sqr\n",
        "        y_sqr = abs(self.ypos-agent.ypos)\n",
        "        y_sqr*=y_sqr\n",
        "        return math.sqrt(x_sqr*y_sqr)"
      ],
      "metadata": {
        "id": "p-9Gx8XeusIc"
      },
      "execution_count": 108,
      "outputs": []
    },
    {
      "cell_type": "code",
      "metadata": {
        "id": "CznAfrcJMR8u"
      },
      "source": [
        "class Population:\n",
        "    def __init__(self,selected_population):\n",
        "        \n",
        "        self.persons = []\n",
        "        self.npos ={}\n",
        "        self.colors=[]\n",
        "\n",
        "        self.graph = nx.Graph(directed=False)\n",
        "        bcolors=[\"white\",\"red\",\"green\",\"blue\",\"yellow\"]\n",
        "        for i in range(len(selected_population)):\n",
        "            new_person = Person(i,selected_population[i])\n",
        "            self.graph.add_node(new_person.id)\n",
        "            self.npos[new_person.id]=(new_person.xpos,new_person.ypos)\n",
        "            self.colors.append(bcolors[new_person.BMI_catagory])\n",
        "            self.persons.append(new_person)  \n",
        "         \n",
        "\n",
        "    def makeLink(self,agent,choice):\n",
        "        if self.graph.has_edge(agent.id,choice.id)==False:\n",
        "            self.graph.add_edge(agent.id,choice.id)\n",
        "            choice.linked.append(agent)\n",
        "            agent.linked.append(choice)\n",
        "        #choice.linked.append(agent)\n",
        "        #     return True\n",
        "        # return False\n",
        "        \n",
        "\n",
        "    def linkAgentTo(self,agent):\n",
        "        \n",
        "        candidate = list(filter(self.chosen_not_self_filter(agent),self.persons))  \n",
        "        sink_agent = rnd.choice(candidate)\n",
        "        if rnd.random()>0.2:\n",
        "            candidate = list(filter(self.homophily_filter(agent),self.persons))\n",
        "        choicelist =[]\n",
        "        for agnt in candidate:\n",
        "            for _ in range(len(agnt.linked)):\n",
        "                choicelist.append(agnt)\n",
        "        if len(choicelist)>0 :\n",
        "            choice = rnd.choice(choicelist)\n",
        "        else:\n",
        "            choice = sink_agent\n",
        "\n",
        "        self.makeLink(agent,choice)\n",
        "            # if flag and choice in self.not_linked and len(choice.linked_to) >0:\n",
        "            #     self.not_linked.remove(choice)\n",
        "        \n",
        "                \n",
        "                \n",
        "\n",
        "\n",
        "    def makeGraph(self,ld = 0.267):                \n",
        "        i = 0\n",
        "        while i < len(self.persons):\n",
        "            linkable = list(filter(self.can_choose_filter(),self.persons))\n",
        "            if (rnd.random()<=ld) and (len(linkable)>2):\n",
        "                agent = rnd.choice(linkable)\n",
        "                self.linkAgentTo(agent)\n",
        "            else:\n",
        "                not_linked = list(filter(self.not_chosen_filter(),self.persons))\n",
        "                agent = rnd.choice(not_linked)\n",
        "                agent.can_choose = True\n",
        "                i+=1\n",
        "\n",
        "        not_linked = list(filter(self.not_linked_to_filter(),self.persons))\n",
        "        for agent in not_linked:\n",
        "            self.linkAgentTo(agent)   \n",
        "\n",
        "\n",
        "    def  homophily_filter(self,agent):\n",
        "        agent = agent\n",
        "        def infun(x):\n",
        "            d = x\n",
        "            a_d = agent\n",
        "            if x.can_choose == False:\n",
        "                return False\n",
        "            if x == agent:\n",
        "                return False\n",
        "            if (d.BMI_catagory == a_d.BMI_catagory ) and (x.gender == agent.gender) and (abs(d.age-a_d.age)<4):\n",
        "                return True\n",
        "            elif (x.gender == agent.gender) and (abs(d.age-a_d.age)<4) and (agent.distance(x)<0.2):\n",
        "                return True\n",
        "            elif (x.gender == agent.gender) and (d.BMI_catagory == a_d.BMI_catagory) and (agent.distance(x)<0.2):\n",
        "                return True\n",
        "            elif (abs(d.age-a_d.age)<4) and (d.BMI_catagory == a_d.BMI_catagory) and (agent.distance(x)<0.2):\n",
        "                return True\n",
        "            else:\n",
        "                return False\n",
        "        return infun\n",
        "\n",
        "      \n",
        "\n",
        "    def not_linked_to_filter(self):  \n",
        "        def infun(x):\n",
        "            if len(x.linked) ==0:\n",
        "                return True\n",
        "            #if len(x.linked_from) == 0:\n",
        "            #    return True\n",
        "            return False\n",
        "        return infun \n",
        "\n",
        "    def chosen_not_self_filter(self,agent):\n",
        "        agent = agent\n",
        "        def infun(x):\n",
        "            if x == agent:\n",
        "                return False\n",
        "            elif x.can_choose:\n",
        "                return True\n",
        "            return False\n",
        "        return infun\n",
        "\n",
        "\n",
        "    def not_chosen_filter(self):\n",
        "        def infun(x):\n",
        "            if x.can_choose:\n",
        "                return False\n",
        "            return True\n",
        "        return infun\n",
        "\n",
        "\n",
        "\n",
        "    def can_choose_filter(self):  \n",
        "        def infun(x):\n",
        "            if x.can_choose and x.is_part:\n",
        "                return True\n",
        "            return False\n",
        "        return infun\n",
        "\n",
        "\n",
        "    def run(self):\n",
        "        for day in range(365*2):\n",
        "            if day % 7 == 0:\n",
        "                #print(day)\n",
        "                for person in self.persons:\n",
        "                    person.diffuse_behavior()\n",
        "                for person in self.persons:\n",
        "                    person.update()"
      ],
      "execution_count": 109,
      "outputs": []
    },
    {
      "cell_type": "code",
      "metadata": {
        "id": "4r6q5h3QM6nV"
      },
      "source": [
        "population = Population(shi_2009)\n",
        "population.makeGraph()"
      ],
      "execution_count": 110,
      "outputs": []
    },
    {
      "cell_type": "code",
      "metadata": {
        "colab": {
          "base_uri": "https://localhost:8080/",
          "height": 783
        },
        "id": "bV97jgpgZ4BA",
        "outputId": "24943e5c-218b-41a2-b554-f803517c3b87"
      },
      "source": [
        "weights2009 = []\n",
        "weights2011calc = []\n",
        "weights2011shi = []\n",
        "population.run()\n",
        "for person in population.persons:\n",
        "    weights2009.append(person.start_BW)    \n",
        "weights_np_2009 = np.array(weights2009)\n",
        "for person in population.persons:\n",
        "    weights2011calc.append(person.BW)    \n",
        "weights_np_2011calc = np.array(weights2011calc)\n",
        "for person in population.persons:\n",
        "    weights2011shi.append(person.BW_2011)    \n",
        "weights_np_2011shi = np.array(weights2011shi)\n",
        "bins = [x for x in range(0,150,5)]\n",
        "plt.rcParams[\"figure.figsize\"] = (12,12)\n",
        "plt.hist([weights_np_2011calc,weights_np_2011shi] ,bins=bins,label=[\"2011calc\",\"2011\"])\n",
        "plt.xlabel(\"Body weight kg\")\n",
        "plt.ylabel(\"Number of persons\")\n",
        "plt.legend()\n",
        "plt.show()\n",
        "print(hold)\n",
        "print(hold3)\n",
        "print(hold2)\n",
        "count = 0\n",
        "for person in population.persons:\n",
        "    count+=len(person.linked)\n",
        "print(count)"
      ],
      "execution_count": 111,
      "outputs": [
        {
          "output_type": "display_data",
          "data": {
            "image/png": "[encoded data removed]",
            "text/plain": [
              "<Figure size 864x864 with 1 Axes>"
            ]
          },
          "metadata": {
            "needs_background": "light"
          }
        },
        {
          "output_type": "stream",
          "name": "stdout",
          "text": [
            "1657.0094993752366\n",
            "4186.20635426783\n",
            "461160\n",
            "4392\n"
          ]
        }
      ]
    },
    {
      "cell_type": "code",
      "source": [
        "print(np.array(weights2009).mean())\n",
        "print(np.array(weights2011shi).mean())\n",
        "print(np.array(weights2011calc).mean())\n",
        "from scipy.stats import ttest_ind\n",
        "\n",
        "res = ttest_ind(np.array(weights2009), np.array(weights2011shi),equal_var = True)\n",
        "print(res)\n",
        "res = ttest_ind(np.array(weights2009), np.array(weights2011calc),equal_var = True)\n",
        "print(res)\n",
        "res = ttest_ind(np.array(weights2011shi), np.array(weights2011calc),equal_var = True)\n",
        "print(res)"
      ],
      "metadata": {
        "colab": {
          "base_uri": "https://localhost:8080/"
        },
        "id": "xjTOuG_Q0LL3",
        "outputId": "a56f0fcf-03f9-403f-fdc1-3f0fd1a9cbcd"
      },
      "execution_count": 112,
      "outputs": [
        {
          "output_type": "stream",
          "name": "stdout",
          "text": [
            "61.7335912608102\n",
            "62.377196176604464\n",
            "62.178672314879705\n",
            "Ttest_indResult(statistic=-1.8501312095629512, pvalue=0.06436176206015051)\n",
            "Ttest_indResult(statistic=-1.3714160306604708, pvalue=0.17031536235728506)\n",
            "Ttest_indResult(statistic=0.5960914785073126, pvalue=0.5511448350629397)\n"
          ]
        }
      ]
    },
    {
      "cell_type": "code",
      "metadata": {
        "id": "R9f2ZdSVqkZK"
      },
      "source": [
        "# gcc = sorted(nx.connected_components(population.graph), key=len, reverse=True)\n",
        "# graph = population.graph.subgraph(gcc[0])\n",
        "# degree_sequence = sorted([d for n, d in population.graph.degree()], reverse=True)\n",
        "# plt.rcParams[\"figure.figsize\"] = (30,10)\n",
        "# plt.subplot(1,3,1)\n",
        "# nx.draw(population.graph,pos=population.npos,node_size=10,node_color=population.colors,width=0.1,arrows=False) \n",
        "# plt.subplot(1,3,2)\n",
        "# nx.draw(population.graph,node_color=population.colors,node_size=10,width=0.1,arrows=False) \n",
        "# plt.subplot(1,3,3)\n",
        "# x,y =np.unique(degree_sequence, return_counts=True)\n",
        "# plt.bar(x,y)\n",
        "# #plt.subplot(2,2,4)\n",
        "# #plt.plot()\n",
        "# plt.show()\n",
        "# print(\"Average shortest path length\",nx.average_shortest_path_length(graph))\n",
        "# print(\"Average clustering\",nx.average_clustering(graph))\n",
        "# print(\"number of nodes\", graph.number_of_nodes())"
      ],
      "execution_count": 113,
      "outputs": []
    },
    {
      "cell_type": "code",
      "source": [
        ""
      ],
      "metadata": {
        "id": "J1r_aoil6HK0"
      },
      "execution_count": 113,
      "outputs": []
    },
    {
      "cell_type": "code",
      "metadata": {
        "id": "enqxk6TfZlmJ"
      },
      "source": [
        "# weights2009 = []\n",
        "# weights2011calc = []\n",
        "# weights2011shi = []\n",
        "# population.run()\n",
        "# for person in population.persons:\n",
        "#     weights2009.append(person.start_BW)    \n",
        "# weights_np_2009 = np.array(weights2009)\n",
        "# for person in population.persons:\n",
        "#     weights2011calc.append(person.BW)    \n",
        "# weights_np_2011calc = np.array(weights2011calc)\n",
        "# for person in population.persons:\n",
        "#     weights2011shi.append(person.BW_2011)    \n",
        "# weights_np_2011shi = np.array(weights2011shi)\n",
        "# bins = [x for x in range(0,150,5)]\n",
        "# plt.rcParams[\"figure.figsize\"] = (12,12)\n",
        "# plt.hist([weights_np_2009,weights_np_2011calc,weights_np_2011shi] ,bins=bins,label=[\"2009\",\"2011calc\",\"2011\"])\n",
        "# plt.xlabel(\"Body weight kg\")\n",
        "# plt.ylabel(\"Number of persons\")\n",
        "# plt.legend()\n",
        "# plt.show()"
      ],
      "execution_count": 114,
      "outputs": []
    },
    {
      "cell_type": "code",
      "source": [
        ""
      ],
      "metadata": {
        "id": "pULy-JlpuFoD"
      },
      "execution_count": 114,
      "outputs": []
    },
    {
      "cell_type": "code",
      "source": [
        ""
      ],
      "metadata": {
        "id": "2x_Iawzauppa"
      },
      "execution_count": 114,
      "outputs": []
    }
  ]
}